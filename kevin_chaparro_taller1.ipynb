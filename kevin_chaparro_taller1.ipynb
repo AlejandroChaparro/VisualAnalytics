{
 "cells": [
  {
   "cell_type": "markdown",
   "metadata": {},
   "source": [
    "# <center>Aceptación de Joe Biden es más polarizada que la de Donald Trump</center>\n",
    "![jiji](./desktop/theguardian.png \"The Guardian\")\n",
    "Fuente: [The Economist](https://www.economist.com/graphic-detail/2021/02/12/joe-bidens-approval-ratings-are-more-polarised-than-donald-trumps)"
   ]
  },
  {
   "cell_type": "markdown",
   "metadata": {},
   "source": [
    "### <center><span style=\"color:red\">¿Qué?</span></center>\n",
    "+ Gráfico de Barras Horizontal.\n",
    "+ Atributos ordenados ordinales con dirección divergente y estáticos.\n",
    "### <center><span style=\"color:red\">¿Por qué?</span></center>\n",
    "+ Análisis: Presentar.\n",
    "+ Búsqueda: ubicación y target conocidos.\n",
    "+ Query: Comparar.\n",
    "+ Objetivos: Trends\n",
    "### <center><span style=\"color:red\">¿Cómo?</span></center>\n",
    "+ Organización: Arrange - Express\n",
    "+ Manipulate: Navigate \n",
    "+ Facet: juxtapose\n",
    "### <center><span style=\"color:blue\">Marca</span></center>\n",
    "+ Puntos y Líneas \n",
    "### <center><span style=\"color:blue\">Canales</span></center>\n",
    "+ Posición espacial horizontal para el atributo cuantitativo\n",
    "+ Posición espacial vertical para el atributo categórico\n",
    "+ Canal de color para atributo categórico\n",
    "### En resumen:\n",
    "- Cumple con las reglas generales. Usa un espacio 1D para los atributos cuantitativos que combinados con los atributos categóricos, generan un espacio 2D justificado que ayuda a las personas a comparar los datos entre un item y otro.\n",
    "- Cambiaría el color asignado para los partidos independientes, ya que genera la impresión de que son cercanos al partido republicano. Un buen color sería el morado que sería la unión entre el rojo y el azul.\n",
    "______________________________________________________________________________________________________________________________"
   ]
  },
  {
   "cell_type": "markdown",
   "metadata": {},
   "source": [
    "# <center>Opinión del nutricionista vs Opinión pública de los americanos (Estadounidenses)</center>\n",
    "![jiji](./desktop/image.jfif \"The Guardian\")\n",
    "Fuente: [The New York Times](https://www.nytimes.com/2017/10/09/learning/whats-going-on-in-this-graph-oct-10-2017.html)"
   ]
  },
  {
   "cell_type": "markdown",
   "metadata": {},
   "source": [
    "### <center><span style=\"color:red\">¿Qué?</span></center>\n",
    "+ Plano Cartesiano - Tabla bidimensional\n",
    "+ Atributos ordenados ordinales y estáticos.\n",
    "### <center><span style=\"color:red\">¿Por qué?</span></center>\n",
    "+ Análisis: Presentar.\n",
    "+ Query: Identificar y Comparar.\n",
    "+ Objetivos: Tendencias y Outliers\n",
    "### <center><span style=\"color:red\">¿Cómo?</span></center>\n",
    "+ Organización: Express\n",
    "+ Manipulate: Navigate \n",
    "+ Facet: juxtapose\n",
    "### <center><span style=\"color:blue\">Marca</span></center>\n",
    "+ Puntos y Línea\n",
    "### <center><span style=\"color:blue\">Canales</span></center>\n",
    "+ Posición espacial en dos dimensiones\n",
    "+ Formas que ilustran el alimento en cuestión\n",
    "### En resumen:\n",
    "- Cumple con las reglas generales. Usa un espacio 2D para clasificar los alimentos en un plano cartesiano y comparar la opinión pública vs la opinió del profesional. La línea en diagonal enseña los alimentos en los que los profesionales y la opinión pública están de acuerdo y los alimentos que están distorsionados por la opinión pública (aquellos que están por fuera de la línea).\n",
    "- Me parece una gráfica excelsa, sin embargo, el tamaño de las gráficas de los alimentos no permiten identificar valores cuantitativos con exactitud, ya que compreden un amplio rango dentro del cuadro cartesiano. Para motivos de análisis y mayor comprensión, recomendaría unir los alimentos en el eje Y y X con una línea recta. Esta línea tendría que ser delgada y con un color claro para no sobre cargar la ilustración."
   ]
  },
  {
   "cell_type": "code",
   "execution_count": null,
   "metadata": {},
   "outputs": [],
   "source": []
  }
 ],
 "metadata": {
  "kernelspec": {
   "display_name": "Python 3",
   "language": "python",
   "name": "python3"
  },
  "language_info": {
   "codemirror_mode": {
    "name": "ipython",
    "version": 3
   },
   "file_extension": ".py",
   "mimetype": "text/x-python",
   "name": "python",
   "nbconvert_exporter": "python",
   "pygments_lexer": "ipython3",
   "version": "3.8.5"
  }
 },
 "nbformat": 4,
 "nbformat_minor": 4
}
